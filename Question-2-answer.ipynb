{
 "cells": [
  {
   "cell_type": "code",
   "execution_count": 13,
   "metadata": {},
   "outputs": [
    {
     "name": "stdout",
     "output_type": "stream",
     "text": [
      "Enter User first Name\n",
      "suresh\n",
      "Enter User Last Name\n",
      "rangappa\n",
      "User full Name: suresh   rangappa\n",
      "Reversed First Name & Last Name : hserus   appagnar\n",
      "Reversed Last Name & First Name : appagnar   hserus\n"
     ]
    }
   ],
   "source": [
    "# Q2- Write a Python program to accept the user's first and last name and then getting them printed in the reverse order with a space between first name and last name.\n",
    "first_name=input(\"Enter User first Name\\n\")\n",
    "last_name=input(\"Enter User Last Name\\n\")\n",
    "print (\"User full Name:\",first_name,\" \",last_name)      #Full Name before reversing the name\n",
    "print(\"Reversed First Name & Last Name :\",first_name[::-1],\" \",last_name[::-1]) #Revesred first name first and last name\n",
    "print(\"Reversed Last Name & First Name :\",last_name[::-1],\" \",first_name[::-1]) #Reversed full name"
   ]
  },
  {
   "cell_type": "code",
   "execution_count": null,
   "metadata": {},
   "outputs": [],
   "source": []
  }
 ],
 "metadata": {
  "kernelspec": {
   "display_name": "Python 3",
   "language": "python",
   "name": "python3"
  },
  "language_info": {
   "codemirror_mode": {
    "name": "ipython",
    "version": 3
   },
   "file_extension": ".py",
   "mimetype": "text/x-python",
   "name": "python",
   "nbconvert_exporter": "python",
   "pygments_lexer": "ipython3",
   "version": "3.7.4"
  }
 },
 "nbformat": 4,
 "nbformat_minor": 2
}

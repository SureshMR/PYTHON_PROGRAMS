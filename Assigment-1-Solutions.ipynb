{
 "cells": [
  {
   "cell_type": "code",
   "execution_count": 1,
   "metadata": {},
   "outputs": [
    {
     "name": "stdout",
     "output_type": "stream",
     "text": [
      "Below are the numbers which are divisible by 7 and not multiply by 5 between 2000 & 3200:\n",
      "\n",
      "2002,2009,2016,2023,2037,2044,2051,2058,2072,2079,2086,2093,2107,2114,2121,2128,2142,2149,2156,2163,2177,2184,2191,2198,2212,2219,2226,2233,2247,2254,2261,2268,2282,2289,2296,2303,2317,2324,2331,2338,2352,2359,2366,2373,2387,2394,2401,2408,2422,2429,2436,2443,2457,2464,2471,2478,2492,2499,2506,2513,2527,2534,2541,2548,2562,2569,2576,2583,2597,2604,2611,2618,2632,2639,2646,2653,2667,2674,2681,2688,2702,2709,2716,2723,2737,2744,2751,2758,2772,2779,2786,2793,2807,2814,2821,2828,2842,2849,2856,2863,2877,2884,2891,2898,2912,2919,2926,2933,2947,2954,2961,2968,2982,2989,2996,3003,3017,3024,3031,3038,3052,3059,3066,3073,3087,3094,3101,3108,3122,3129,3136,3143,3157,3164,3171,3178,3192,3199."
     ]
    }
   ],
   "source": [
    "# Q1- Write a program which will find all such numbers which are divisible by 7 but are not a multiple of 5, between 2000 and 3200 (both included). The numbers obtained should be printed in a comma-separated sequence on a single line\n",
    "\n",
    "list=[]                       #Empty List to store the values\n",
    "for i in range(2000,3201):    #number range using range function\n",
    "    if(i%7==0 and i%5 !=0):   #If loop to check both condition \n",
    "        list.append(i)        #store the number in list   \n",
    "print(\"Below are the numbers which are divisible by 7 and not multiply by 5 between 2000 & 3200:\\n\")\n",
    "print(*list,sep=\",\",end=\".\")\n",
    "    "
   ]
  },
  {
   "cell_type": "code",
   "execution_count": 2,
   "metadata": {},
   "outputs": [
    {
     "name": "stdout",
     "output_type": "stream",
     "text": [
      "Enter User first Name\n",
      "suresh\n",
      "Enter User Last Name\n",
      "mudigere\n",
      "User full Name: suresh   mudigere\n",
      "Reversed First Name & Last Name : hserus   eregidum\n",
      "Reversed Last Name & First Name : eregidum   hserus\n"
     ]
    }
   ],
   "source": [
    "# Q2- Write a Python program to accept the user's first and last name and then getting them printed in the reverse order with a space between first name and last name.\n",
    "first_name=input(\"Enter User first Name\\n\")\n",
    "last_name=input(\"Enter User Last Name\\n\")\n",
    "print (\"User full Name:\",first_name,\" \",last_name)      #Full Name before reversing the name\n",
    "print(\"Reversed First Name & Last Name :\",first_name[::-1],\" \",last_name[::-1]) #Revesred first name first and last name\n",
    "print(\"Reversed Last Name & First Name :\",last_name[::-1],\" \",first_name[::-1]) #Reversed full name"
   ]
  },
  {
   "cell_type": "code",
   "execution_count": 3,
   "metadata": {},
   "outputs": [
    {
     "name": "stdout",
     "output_type": "stream",
     "text": [
      "Volume of sphere: 904.3199999999999 cm's for given diameter 12 cm\n"
     ]
    }
   ],
   "source": [
    "# Q3 - Write a Python program to find the volume of a sphere with diameter 12 cm.\n",
    "#      Formula: V=4/3 * π * r 3 \n",
    "\n",
    "import math                 #Importing math library to use pow function\n",
    "diameter=12                 #Given diameter\n",
    "radius=12/2                 #radius of sphere\n",
    "pi=3.14                     #pi constant value   \n",
    "V=((4/3) * pi * (pow(radius,3)))\n",
    "print(\"Volume of sphere:\",V,\"cm's for given diameter 12 cm\") "
   ]
  },
  {
   "cell_type": "code",
   "execution_count": 4,
   "metadata": {},
   "outputs": [
    {
     "name": "stdout",
     "output_type": "stream",
     "text": [
      "Enter list of numbers separated by comma4,8,3,9,6,1,9,0,3\n",
      "Input values separated by comma : 4,8,3,9,6,1,9,0,3\n",
      "Values converted into list: ['4', '8', '3', '9', '6', '1', '9', '0', '3']\n"
     ]
    }
   ],
   "source": [
    "# Q4 - Write a program which accepts a sequence of comma-separated numbers from console and generate a list\n",
    "lst=input(\"Enter list of numbers separated by comma\")\n",
    "list=lst.split(\",\")\n",
    "print(\"Input values separated by comma :\",lst)\n",
    "print(\"Values converted into list:\",list)"
   ]
  },
  {
   "cell_type": "code",
   "execution_count": 13,
   "metadata": {},
   "outputs": [
    {
     "name": "stdout",
     "output_type": "stream",
     "text": [
      "Plese find below pattern\n",
      "\n",
      "* \r\n",
      "* * \r\n",
      "* * * \r\n",
      "* * * * \r\n",
      "* * * * * \r\n",
      "* * * * \r\n",
      "* * * \r\n",
      "* * \r\n",
      "* \r\n"
     ]
    }
   ],
   "source": [
    "#5. Create the below pattern using nested for loop in Python. \n",
    "#   *  \n",
    "#   * *\n",
    "#   * * *\n",
    "#   * * * * \n",
    "#   * * * * *  \n",
    "#   * * * * \n",
    "#   * * * \n",
    "#   * *\n",
    "#   *\n",
    "\n",
    "print ('Plese find below pattern\\n')\n",
    "for i in range(0,4):         #'i' loop to represent rows\n",
    "    for j in range(0,i+1):   #'j' loop to represent columns\n",
    "        print('*',end=\" \")\n",
    "    print(\"\\r\")\n",
    "\n",
    "for i in range(4,-1,-1):\n",
    "    for j in range(0,i+1):\n",
    "        print('*',end=\" \")\n",
    "    print(\"\\r\")"
   ]
  },
  {
   "cell_type": "code",
   "execution_count": 14,
   "metadata": {},
   "outputs": [
    {
     "name": "stdout",
     "output_type": "stream",
     "text": [
      "Enter the word to reversebangalore\n",
      "Before reversing :  bangalore\n",
      "After Reversing  :  erolagnab\n"
     ]
    }
   ],
   "source": [
    "#6. Write a Python program to reverse a word after accepting the input from the user\n",
    "word=input(\"Enter the word to reverse\")\n",
    "print(\"Before reversing : \",word)\n",
    "print(\"After Reversing  : \",word[::-1])"
   ]
  },
  {
   "cell_type": "code",
   "execution_count": 24,
   "metadata": {},
   "outputs": [
    {
     "name": "stdout",
     "output_type": "stream",
     "text": [
      "WE, THE PEOPLE OF INDIA, having solemnly resolved to constitute India into a SOVEREIGN, !  SOCIALIST, SECULAR, DEMOCRATIC REPUBLIC and to secure to all its citizens\n"
     ]
    }
   ],
   "source": [
    "#7. Write a Python Program to print the given string in the format specified in the ​sample output. \n",
    "\n",
    "#Input:\n",
    "#WE, THE PEOPLE OF INDIA, having solemnly resolved to constitute India into a SOVEREIGN, SOCIALIST, SECULAR, DEMOCRATIC REPUBLIC and to secure to all its citizens\n",
    "#Output:\n",
    "#WE, THE PEOPLE OF INDIA,   having solemnly resolved to constitute India into a SOVEREIGN, !  SOCIALIST, SECULAR, DEMOCRATIC REPUBLIC    and to secure to all its citizens.\n",
    "str=\"WE, THE PEOPLE OF INDIA, having solemnly resolved to constitute India into a SOVEREIGN, SOCIALIST, SECULAR, DEMOCRATIC REPUBLIC and to secure to all its citizens\"\n",
    "print(str.replace(\"SOCIALIST\",\"!  SOCIALIST\"))"
   ]
  },
  {
   "cell_type": "code",
   "execution_count": null,
   "metadata": {},
   "outputs": [],
   "source": []
  }
 ],
 "metadata": {
  "kernelspec": {
   "display_name": "Python 3",
   "language": "python",
   "name": "python3"
  },
  "language_info": {
   "codemirror_mode": {
    "name": "ipython",
    "version": 3
   },
   "file_extension": ".py",
   "mimetype": "text/x-python",
   "name": "python",
   "nbconvert_exporter": "python",
   "pygments_lexer": "ipython3",
   "version": "3.7.4"
  }
 },
 "nbformat": 4,
 "nbformat_minor": 2
}

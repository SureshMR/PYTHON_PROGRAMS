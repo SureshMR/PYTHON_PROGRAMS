{
 "cells": [
  {
   "cell_type": "code",
   "execution_count": 5,
   "metadata": {},
   "outputs": [
    {
     "name": "stdout",
     "output_type": "stream",
     "text": [
      "Volume of sphere: 904.3199999999999 cm's\n"
     ]
    }
   ],
   "source": [
    "# Q3 - Write a Python program to find the volume of a sphere with diameter 12 cm.\n",
    "#      Formula: V=4/3 * π * r 3 \n",
    "\n",
    "import math                 #Importing math library to use pow function\n",
    "diameter=12                 #Given diameter\n",
    "radius=12/2                 #radius of sphere\n",
    "pi=3.14                     #pi constant value   \n",
    "V=((4/3) * pi * (pow(radius,3)))\n",
    "print(\"Volume of sphere:\",V,\"cm's\") "
   ]
  },
  {
   "cell_type": "code",
   "execution_count": null,
   "metadata": {},
   "outputs": [],
   "source": []
  }
 ],
 "metadata": {
  "kernelspec": {
   "display_name": "Python 3",
   "language": "python",
   "name": "python3"
  },
  "language_info": {
   "codemirror_mode": {
    "name": "ipython",
    "version": 3
   },
   "file_extension": ".py",
   "mimetype": "text/x-python",
   "name": "python",
   "nbconvert_exporter": "python",
   "pygments_lexer": "ipython3",
   "version": "3.7.4"
  }
 },
 "nbformat": 4,
 "nbformat_minor": 2
}
